{
 "cells": [
  {
   "cell_type": "markdown",
   "metadata": {},
   "source": [
    "# Performance Evaluation on PWCLeaderboards dataset\n",
    "\n",
    "This notebook runs AxCell on the **PWCLeaderboards** dataset."
   ]
  },
  {
   "cell_type": "markdown",
   "source": [
    "For the pipeline to work we need a running elasticsearch instance. Run `docker-compose up -d` from the `axcell` repository to start a new instance."
   ],
   "metadata": {
    "collapsed": false
   }
  },
  {
   "cell_type": "code",
   "execution_count": 1,
   "metadata": {},
   "outputs": [],
   "source": [
    "from axcell.helpers.datasets import read_tables_annotations\n",
    "from pathlib import Path\n",
    "\n",
    "V1_URL = 'https://github.com/sotagents/axcell/releases/download/v1.0/'\n",
    "PWC_LEADERBOARDS_URL = V1_URL + 'pwc-leaderboards.json.xz'\n",
    "\n",
    "pwc_leaderboards = read_tables_annotations(PWC_LEADERBOARDS_URL)"
   ]
  },
  {
   "cell_type": "code",
   "execution_count": 2,
   "metadata": {},
   "outputs": [],
   "source": [
    "# path to root directory containing e-prints\n",
    "PWC_LEADERBOARDS_ROOT_PATH = Path('pwc-leaderboards')\n",
    "PWC_LEADERBOARDS_ROOT_PATH = Path.home() / 'data/pwc-leaderboards'\n",
    "SOURCES_PATH = PWC_LEADERBOARDS_ROOT_PATH / 'sources'\n",
    "\n",
    "from axcell.helpers.paper_extractor import PaperExtractor\n",
    "extract = PaperExtractor(PWC_LEADERBOARDS_ROOT_PATH)"
   ]
  },
  {
   "cell_type": "code",
   "execution_count": 3,
   "metadata": {},
   "outputs": [
    {
     "name": "stdout",
     "output_type": "stream",
     "text": [
      "CPU times: user 2.02 s, sys: 1.07 s, total: 3.09 s\n",
      "Wall time: 12min 43s\n"
     ]
    }
   ],
   "source": [
    "%%time\n",
    "\n",
    "from joblib import delayed, Parallel\n",
    "\n",
    "# access extract from the global context to avoid serialization\n",
    "def extract_single(file): return extract(file)\n",
    "\n",
    "files = sorted([path for path in SOURCES_PATH.glob('**/*') if path.is_file()])\n",
    "\n",
    "statuses = Parallel(backend='multiprocessing', n_jobs=-1)(delayed(extract_single)(file) for file in files)"
   ]
  },
  {
   "cell_type": "code",
   "execution_count": 4,
   "metadata": {},
   "outputs": [],
   "source": [
    "assert statuses == [\"success\"] * 731"
   ]
  },
  {
   "cell_type": "markdown",
   "metadata": {},
   "source": [
    "Download and unpack the archive with trained models (table type classifier, table segmentation), taxonomy and abbreviations."
   ]
  },
  {
   "cell_type": "code",
   "execution_count": 5,
   "metadata": {},
   "outputs": [
    {
     "name": "stderr",
     "output_type": "stream",
     "text": [
      "[PID 10700] Load model table-structure-classifier.pth\n"
     ]
    }
   ],
   "source": [
    "MODELS_URL = V1_URL + 'models.tar.xz'\n",
    "MODELS_ARCHIVE = 'models.tar.xz'\n",
    "MODELS_PATH = Path('models')\n",
    "\n",
    "from fastai.core import download_url\n",
    "import tarfile\n",
    "\n",
    "download_url(MODELS_URL, MODELS_ARCHIVE)\n",
    "with tarfile.open(MODELS_ARCHIVE, 'r:*') as archive:\n",
    "    archive.extractall()\n",
    "\n",
    "from axcell.helpers.results_extractor import ResultsExtractor\n",
    "extract_results = ResultsExtractor(MODELS_PATH)"
   ]
  },
  {
   "cell_type": "code",
   "execution_count": 6,
   "metadata": {},
   "outputs": [],
   "source": [
    "import pandas as pd\n",
    "\n",
    "papers = []\n",
    "our_taxonomy = set(extract_results.taxonomy.taxonomy)\n",
    "gold_records = []\n",
    "for _, paper in pwc_leaderboards.iterrows():\n",
    "    for table in paper.tables:\n",
    "        for record in table['records']:\n",
    "            r = dict(record)\n",
    "            r['arxiv_id'] = paper.arxiv_id\n",
    "            tdm = (record['task'], record['dataset'], record['metric'])\n",
    "            if tdm in our_taxonomy:\n",
    "                gold_records.append(r)\n",
    "                papers.append(paper.arxiv_id)\n",
    "gold_records = pd.DataFrame(gold_records)\n",
    "papers = sorted(set(papers))"
   ]
  },
  {
   "cell_type": "code",
   "execution_count": 7,
   "metadata": {},
   "outputs": [],
   "source": [
    "from axcell.data.paper_collection import PaperCollection\n",
    "pc = PaperCollection.from_files(PWC_LEADERBOARDS_ROOT_PATH / \"papers\")\n",
    "pc = PaperCollection([pc.get_by_id(p) for p in papers])"
   ]
  },
  {
   "cell_type": "code",
   "execution_count": 8,
   "metadata": {},
   "outputs": [
    {
     "name": "stdout",
     "output_type": "stream",
     "text": [
      "CPU times: user 21.4 s, sys: 17.8 s, total: 39.2 s\n",
      "Wall time: 43min 27s\n"
     ]
    }
   ],
   "source": [
    "%%time\n",
    "\n",
    "from joblib import delayed, Parallel\n",
    "\n",
    "def process_single(index):\n",
    "    extract_results = ResultsExtractor(MODELS_PATH)\n",
    "    return extract_results(pc[index])\n",
    "\n",
    "results = Parallel(backend='multiprocessing', n_jobs=-1)(delayed(process_single)(index) for index in range(len(pc)))"
   ]
  },
  {
   "cell_type": "code",
   "execution_count": 9,
   "metadata": {},
   "outputs": [],
   "source": [
    "predicted_records = []\n",
    "for paper, records in zip(pc, results):\n",
    "    r = records.copy()\n",
    "    r['arxiv_id'] = paper.arxiv_no_version\n",
    "    predicted_records.append(r)\n",
    "predicted_records = pd.concat(predicted_records)\n",
    "predicted_records.to_json('axcell-predictions-on-pwc-leaderboards.json.xz', orient='records')"
   ]
  },
  {
   "cell_type": "code",
   "execution_count": 10,
   "metadata": {},
   "outputs": [
    {
     "data": {
      "text/html": [
       "<style  type=\"text/css\" >\n",
       "</style><table id=\"T_362da586_9049_11ea_bd4b_51531a44b57f\" ><thead>    <tr>        <th class=\"blank level0\" ></th>        <th class=\"col_heading level0 col0\" >Micro Precision</th>        <th class=\"col_heading level0 col1\" >Micro Recall</th>        <th class=\"col_heading level0 col2\" >Micro F1</th>        <th class=\"col_heading level0 col3\" >Macro Precision</th>        <th class=\"col_heading level0 col4\" >Macro Recall</th>        <th class=\"col_heading level0 col5\" >Macro F1</th>    </tr></thead><tbody>\n",
       "                <tr>\n",
       "                        <th id=\"T_362da586_9049_11ea_bd4b_51531a44b57flevel0_row0\" class=\"row_heading level0 row0\" >0</th>\n",
       "                        <td id=\"T_362da586_9049_11ea_bd4b_51531a44b57frow0_col0\" class=\"data row0 col0\" >39.35%</td>\n",
       "                        <td id=\"T_362da586_9049_11ea_bd4b_51531a44b57frow0_col1\" class=\"data row0 col1\" >24.18%</td>\n",
       "                        <td id=\"T_362da586_9049_11ea_bd4b_51531a44b57frow0_col2\" class=\"data row0 col2\" >29.95%</td>\n",
       "                        <td id=\"T_362da586_9049_11ea_bd4b_51531a44b57frow0_col3\" class=\"data row0 col3\" >24.18%</td>\n",
       "                        <td id=\"T_362da586_9049_11ea_bd4b_51531a44b57frow0_col4\" class=\"data row0 col4\" >22.13%</td>\n",
       "                        <td id=\"T_362da586_9049_11ea_bd4b_51531a44b57frow0_col5\" class=\"data row0 col5\" >21.34%</td>\n",
       "            </tr>\n",
       "            <tr>\n",
       "                        <th id=\"T_362da586_9049_11ea_bd4b_51531a44b57flevel0_row1\" class=\"row_heading level0 row1\" >1</th>\n",
       "                        <td id=\"T_362da586_9049_11ea_bd4b_51531a44b57frow1_col0\" class=\"data row1 col0\" >67.83%</td>\n",
       "                        <td id=\"T_362da586_9049_11ea_bd4b_51531a44b57frow1_col1\" class=\"data row1 col1\" >47.35%</td>\n",
       "                        <td id=\"T_362da586_9049_11ea_bd4b_51531a44b57frow1_col2\" class=\"data row1 col2\" >55.77%</td>\n",
       "                        <td id=\"T_362da586_9049_11ea_bd4b_51531a44b57frow1_col3\" class=\"data row1 col3\" >47.94%</td>\n",
       "                        <td id=\"T_362da586_9049_11ea_bd4b_51531a44b57frow1_col4\" class=\"data row1 col4\" >46.50%</td>\n",
       "                        <td id=\"T_362da586_9049_11ea_bd4b_51531a44b57frow1_col5\" class=\"data row1 col5\" >43.62%</td>\n",
       "            </tr>\n",
       "            <tr>\n",
       "                        <th id=\"T_362da586_9049_11ea_bd4b_51531a44b57flevel0_row2\" class=\"row_heading level0 row2\" >2</th>\n",
       "                        <td id=\"T_362da586_9049_11ea_bd4b_51531a44b57frow2_col0\" class=\"data row2 col0\" >70.79%</td>\n",
       "                        <td id=\"T_362da586_9049_11ea_bd4b_51531a44b57frow2_col1\" class=\"data row2 col1\" >57.27%</td>\n",
       "                        <td id=\"T_362da586_9049_11ea_bd4b_51531a44b57frow2_col2\" class=\"data row2 col2\" >63.32%</td>\n",
       "                        <td id=\"T_362da586_9049_11ea_bd4b_51531a44b57frow2_col3\" class=\"data row2 col3\" >60.78%</td>\n",
       "                        <td id=\"T_362da586_9049_11ea_bd4b_51531a44b57frow2_col4\" class=\"data row2 col4\" >62.72%</td>\n",
       "                        <td id=\"T_362da586_9049_11ea_bd4b_51531a44b57frow2_col5\" class=\"data row2 col5\" >59.60%</td>\n",
       "            </tr>\n",
       "            <tr>\n",
       "                        <th id=\"T_362da586_9049_11ea_bd4b_51531a44b57flevel0_row3\" class=\"row_heading level0 row3\" >3</th>\n",
       "                        <td id=\"T_362da586_9049_11ea_bd4b_51531a44b57frow3_col0\" class=\"data row3 col0\" >70.28%</td>\n",
       "                        <td id=\"T_362da586_9049_11ea_bd4b_51531a44b57frow3_col1\" class=\"data row3 col1\" >48.06%</td>\n",
       "                        <td id=\"T_362da586_9049_11ea_bd4b_51531a44b57frow3_col2\" class=\"data row3 col2\" >57.08%</td>\n",
       "                        <td id=\"T_362da586_9049_11ea_bd4b_51531a44b57frow3_col3\" class=\"data row3 col3\" >53.64%</td>\n",
       "                        <td id=\"T_362da586_9049_11ea_bd4b_51531a44b57frow3_col4\" class=\"data row3 col4\" >52.79%</td>\n",
       "                        <td id=\"T_362da586_9049_11ea_bd4b_51531a44b57frow3_col5\" class=\"data row3 col5\" >50.02%</td>\n",
       "            </tr>\n",
       "            <tr>\n",
       "                        <th id=\"T_362da586_9049_11ea_bd4b_51531a44b57flevel0_row4\" class=\"row_heading level0 row4\" >4</th>\n",
       "                        <td id=\"T_362da586_9049_11ea_bd4b_51531a44b57frow4_col0\" class=\"data row4 col0\" >68.48%</td>\n",
       "                        <td id=\"T_362da586_9049_11ea_bd4b_51531a44b57frow4_col1\" class=\"data row4 col1\" >58.09%</td>\n",
       "                        <td id=\"T_362da586_9049_11ea_bd4b_51531a44b57frow4_col2\" class=\"data row4 col2\" >62.86%</td>\n",
       "                        <td id=\"T_362da586_9049_11ea_bd4b_51531a44b57frow4_col3\" class=\"data row4 col3\" >58.22%</td>\n",
       "                        <td id=\"T_362da586_9049_11ea_bd4b_51531a44b57frow4_col4\" class=\"data row4 col4\" >60.53%</td>\n",
       "                        <td id=\"T_362da586_9049_11ea_bd4b_51531a44b57frow4_col5\" class=\"data row4 col5\" >56.38%</td>\n",
       "            </tr>\n",
       "    </tbody></table>"
      ],
      "text/plain": [
       "<pandas.io.formats.style.Styler at 0x7f0880fa7f98>"
      ]
     },
     "execution_count": 10,
     "metadata": {},
     "output_type": "execute_result"
    }
   ],
   "source": [
    "from axcell.helpers.evaluate import evaluate\n",
    "evaluate(predicted_records, gold_records).style.format('{:.2%}')"
   ]
  }
 ],
 "metadata": {
  "kernelspec": {
   "display_name": "Python 3",
   "language": "python",
   "name": "python3"
  },
  "language_info": {
   "codemirror_mode": {
    "name": "ipython",
    "version": 3
   },
   "file_extension": ".py",
   "mimetype": "text/x-python",
   "name": "python",
   "nbconvert_exporter": "python",
   "pygments_lexer": "ipython3",
   "version": "3.6.8"
  },
  "pycharm": {
   "stem_cell": {
    "cell_type": "raw",
    "source": [],
    "metadata": {
     "collapsed": false
    }
   }
  }
 },
 "nbformat": 4,
 "nbformat_minor": 2
}
