{
 "cells": [
  {
   "cell_type": "markdown",
   "metadata": {},
   "source": [
    "# Table Type Classifier Training \n",
    "\n",
    "This notebook shows how to train a table type classifier on the **SegmentedTables** dataset. You can download the model weights at https://github.com/sotagents/axcell/releases/download/v1.0/models.tar.xz."
   ]
  },
  {
   "cell_type": "code",
   "execution_count": 1,
   "metadata": {},
   "outputs": [],
   "source": [
    "from axcell.helpers.datasets import read_tables_annotations\n",
    "from pathlib import Path\n",
    "\n",
    "V1_URL = 'https://github.com/sotagents/axcell/releases/download/v1.0/'\n",
    "SEGMENTED_TABLES_URL = V1_URL + 'segmented-tables.json.xz'\n",
    "\n",
    "segmented_tables_annotations = read_tables_annotations(SEGMENTED_TABLES_URL)"
   ]
  },
  {
   "cell_type": "code",
   "execution_count": 2,
   "metadata": {},
   "outputs": [],
   "source": [
    "from axcell.data.paper_collection import PaperCollection\n",
    "\n",
    "SEGMENTED_TABLES_PAPERS = Path('/mnt/efs/pwc/data/arxiv/sources/segmented-tables/papers')\n",
    "pc = PaperCollection.from_files(SEGMENTED_TABLES_PAPERS, annotations=segmented_tables_annotations.to_dict(orient='record'))"
   ]
  },
  {
   "cell_type": "markdown",
   "metadata": {},
   "source": [
    "We convert papers and annotations into a dataframe with features: table caption, content of table headers, and headlines of sections referencing the table. We later specify in ULMFiTTableTypeExperiment which of these featues to use."
   ]
  },
  {
   "cell_type": "code",
   "execution_count": 3,
   "metadata": {},
   "outputs": [],
   "source": [
    "import pandas as pd\n",
    "import re\n",
    "from collections import OrderedDict\n",
    "from fastai.text import *\n",
    "\n",
    "anchor_re = re.compile(r'^xxanchor-\\S* ')\n",
    "\n",
    "# find headlines (possibly with duplicates) of sections\n",
    "# referencing a given table in paper's text\n",
    "def find_sections(paper, table):\n",
    "    anchor = table.figure_id\n",
    "    if anchor is None:\n",
    "        return []\n",
    "    anchor = 'xxref-' + anchor.replace('.', '')\n",
    "    sections = [anchor_re.sub('', fragment.header) for fragment in paper.text.fragments if anchor in fragment.text]\n",
    "    sections = [section for section in sections if section]\n",
    "    return sections\n",
    "\n",
    "\n",
    "def get_tabletype_features(papers, deduplicate=True):\n",
    "    records = []\n",
    "    dedup_fn = (lambda x: x) if not deduplicate else lambda x: list(OrderedDict.fromkeys(x))\n",
    "    for paper in sorted(papers, key=lambda p: p.paper_id):\n",
    "        for table in paper.tables:\n",
    "            tags = table.gold_tags.split()\n",
    "            record = dict(\n",
    "                id=f'{paper.paper_id}/{table.name}',\n",
    "                fold=paper.gold_tags,\n",
    "                caption=table.caption or '',\n",
    "                sota='leaderboard' in tags,\n",
    "                ablation='ablation' in tags,\n",
    "                sections=' ; '.join(dedup_fn(find_sections(paper, table))),\n",
    "                row0=' ; '.join(dedup_fn(table.matrix.iloc[:,0])),\n",
    "                col0=' ; '.join(dedup_fn(table.matrix.iloc[0,:]))\n",
    "            )\n",
    "            records.append(record)\n",
    "    return pd.DataFrame(records)\n",
    "\n",
    "\n",
    "# make sure the training dataframe is batch_size aligned\n",
    "def align_df(df, batch_size):\n",
    "    aligned_len = ( len(df) // batch_size ) * batch_size\n",
    "    return df.iloc[:aligned_len]\n",
    "\n",
    "\n",
    "def dataframes_to_databunch(sigmoid, base_path, train_df, valid_df, test_df, batch_size, processor):\n",
    "    columns = []\n",
    "    if sigmoid:\n",
    "        label_cols = [x for x in [\"sota\", \"ablation\", \"irrelevant\"] if x in train_df.columns]\n",
    "    else:\n",
    "        label_cols = [\"class\"]\n",
    "    text_cols = [x for x in [\"caption\", \"sections\", \"row0\", \"col0\"] if x in train_df.columns]\n",
    "    columns = label_cols + text_cols\n",
    "    \n",
    "    train_df, valid_df, test_df = train_df[columns], valid_df[columns], test_df[columns]\n",
    "    \n",
    "    if len(label_cols) > 1:\n",
    "        classes = label_cols\n",
    "    else:\n",
    "        classes = None\n",
    "    train_tl = TextList.from_df(train_df, base_path, cols=text_cols, processor=processor)\n",
    "    valid_tl = TextList.from_df(valid_df, base_path, cols=text_cols, processor=processor)\n",
    "    test_tl  = TextList.from_df(test_df,  base_path, cols=text_cols, processor=processor)\n",
    "    \n",
    "    src = ItemLists(base_path, train_tl, valid_tl)\\\n",
    "        .label_from_df(cols=label_cols, classes=classes)\n",
    "    src.add_test(test_tl)\n",
    "    \n",
    "    data_clas = src.databunch(bs=batch_size)\n",
    "    return data_clas\n",
    "\n",
    "\n",
    "def get_databunch(experiment, df, processor):\n",
    "    df = experiment.transform_df(df)\n",
    "    is_test = df.fold == experiment.test_split\n",
    "    is_valid = df.fold == experiment.valid_split\n",
    "    test_df = df[is_test]\n",
    "    valid_df = df[is_valid]\n",
    "    train_df = df[(~is_test) & (~is_valid)]\n",
    "    train_df = align_df(train_df, experiment.BS)\n",
    "    data_clas = dataframes_to_databunch(\n",
    "        experiment.sigmoid, BASE_DIR, train_df, valid_df,\n",
    "        test_df, experiment.BS, processor\n",
    "    )\n",
    "    \n",
    "    return train_df, valid_df, test_df, data_clas"
   ]
  },
  {
   "cell_type": "code",
   "execution_count": 4,
   "metadata": {},
   "outputs": [],
   "source": [
    "from axcell.models.structure.experiment import experiments_grid\n",
    "from axcell.models.structure.ulmfit_experiment import ULMFiTTableTypeExperiment\n",
    "\n",
    "EXPERIMENTS_DIR = './experiments/tabletype'\n",
    "BASE_DIR = Path('./models')\n",
    "\n",
    "processor = processor = SPProcessor(\n",
    "    sp_model=BASE_DIR / 'tmp' / 'spm.model',\n",
    "    sp_vocab=BASE_DIR / 'tmp' / 'spm.vocab',\n",
    "    mark_fields=True\n",
    ")\n",
    "\n",
    "# parameters common for all experiments\n",
    "base_experiment = ULMFiTTableTypeExperiment(\n",
    "    dataset=\"segmented-tables\",\n",
    "    drop_mult=1.0,\n",
    "    fp16=False,\n",
    "    test_split='img_class',\n",
    "    valid_split='speech_rec',\n",
    "    pretrained_lm='lm',\n",
    "    schedule=(\n",
    "        (1, 1e-2),   # (a,b) -> fit_one_cyclce(a, b)\n",
    "        (1, 5e-3/2., 5e-3),  # (a, b) -> freeze_to(-2); fit_one_cycle(a, b)\n",
    "        (10, 1e-2 / (2.6 ** 4), 1e-3)  # (a, b) -> unfreeze(); fit_one_cyccle(a, b)\n",
    "    ),\n",
    "    sigmoid=False,\n",
    "    BS=128,\n",
    "    dedup_seqs=True,\n",
    "    caption=True,\n",
    "    first_row=False,\n",
    "    first_column=False,\n",
    "    referencing_sections=False\n",
    ")"
   ]
  },
  {
   "cell_type": "code",
   "execution_count": 5,
   "metadata": {},
   "outputs": [],
   "source": [
    "experiments = list(experiments_grid(\n",
    "    base_experiment,\n",
    "    seed=[1234, 6671347, 531609, 999999, 135792468]\n",
    "))"
   ]
  },
  {
   "cell_type": "code",
   "execution_count": 7,
   "metadata": {},
   "outputs": [],
   "source": [
    "import gc\n",
    "\n",
    "EXPERIMENTS_DIR = './experiments/tabletype'\n",
    "df_dedup = get_tabletype_features(pc, deduplicate=True)\n",
    "df_nodedup = get_tabletype_features(pc, deduplicate=False)\n",
    "\n",
    "# folds = sorted(df_dedup.fold.unique())\n",
    "# folds.remove(base_experiment.test_split)\n",
    "\n",
    "for i in range(len(experiments)):\n",
    "    experiment = experiments[i]\n",
    "    df = df_dedup if experiment.dedup_seqs else df_nodedup\n",
    "\n",
    "    train_df, valid_df, test_df, data_clas = get_databunch(experiment, df, processor)\n",
    "    print(f'Running experiment {i+1} / {len(experiments)}')\n",
    "    model = experiment.get_trained_model(data_clas)\n",
    "    experiment.evaluate(model, train_df, valid_df, test_df)\n",
    "    experiment.save(EXPERIMENTS_DIR)\n",
    "\n",
    "#     experiments[i] = None\n",
    "#     experiment = None\n",
    "#     gc.collect()"
   ]
  },
  {
   "cell_type": "code",
   "execution_count": 16,
   "metadata": {},
   "outputs": [],
   "source": [
    "edf = ULMFiTTableTypeExperiment.experiments_to_df(experiments).reset_index()"
   ]
  },
  {
   "cell_type": "code",
   "execution_count": 17,
   "metadata": {},
   "outputs": [
    {
     "data": {
      "text/html": [
       "<div>\n",
       "<style scoped>\n",
       "    .dataframe tbody tr th:only-of-type {\n",
       "        vertical-align: middle;\n",
       "    }\n",
       "\n",
       "    .dataframe tbody tr th {\n",
       "        vertical-align: top;\n",
       "    }\n",
       "\n",
       "    .dataframe thead th {\n",
       "        text-align: right;\n",
       "    }\n",
       "</style>\n",
       "<table border=\"1\" class=\"dataframe\">\n",
       "  <thead>\n",
       "    <tr style=\"text-align: right;\">\n",
       "      <th></th>\n",
       "      <th>valid_accuracy</th>\n",
       "      <th>valid_bin_accuracy</th>\n",
       "      <th>test_accuracy</th>\n",
       "      <th>test_bin_accuracy</th>\n",
       "    </tr>\n",
       "  </thead>\n",
       "  <tbody>\n",
       "    <tr>\n",
       "      <td>0</td>\n",
       "      <td>0.572368</td>\n",
       "      <td>0.763158</td>\n",
       "      <td>0.703226</td>\n",
       "      <td>0.819355</td>\n",
       "    </tr>\n",
       "    <tr>\n",
       "      <td>1</td>\n",
       "      <td>0.625000</td>\n",
       "      <td>0.809211</td>\n",
       "      <td>0.748387</td>\n",
       "      <td>0.858065</td>\n",
       "    </tr>\n",
       "    <tr>\n",
       "      <td>2</td>\n",
       "      <td>0.578947</td>\n",
       "      <td>0.750000</td>\n",
       "      <td>0.716129</td>\n",
       "      <td>0.825806</td>\n",
       "    </tr>\n",
       "    <tr>\n",
       "      <td>3</td>\n",
       "      <td>0.592105</td>\n",
       "      <td>0.769737</td>\n",
       "      <td>0.748387</td>\n",
       "      <td>0.858065</td>\n",
       "    </tr>\n",
       "    <tr>\n",
       "      <td>4</td>\n",
       "      <td>0.565789</td>\n",
       "      <td>0.703947</td>\n",
       "      <td>0.722581</td>\n",
       "      <td>0.858065</td>\n",
       "    </tr>\n",
       "  </tbody>\n",
       "</table>\n",
       "</div>"
      ],
      "text/plain": [
       "   valid_accuracy  valid_bin_accuracy  test_accuracy  test_bin_accuracy\n",
       "0        0.572368            0.763158       0.703226           0.819355\n",
       "1        0.625000            0.809211       0.748387           0.858065\n",
       "2        0.578947            0.750000       0.716129           0.825806\n",
       "3        0.592105            0.769737       0.748387           0.858065\n",
       "4        0.565789            0.703947       0.722581           0.858065"
      ]
     },
     "execution_count": 17,
     "metadata": {},
     "output_type": "execute_result"
    }
   ],
   "source": [
    "edf[['valid_accuracy', 'valid_bin_accuracy', 'test_accuracy', 'test_bin_accuracy']]"
   ]
  },
  {
   "cell_type": "code",
   "execution_count": 23,
   "metadata": {},
   "outputs": [],
   "source": [
    "best_idx = edf.valid_bin_accuracy.idxmax()\n",
    "best = experiments[best_idx]"
   ]
  },
  {
   "cell_type": "code",
   "execution_count": 24,
   "metadata": {
    "scrolled": false
   },
   "outputs": [
    {
     "name": "stdout",
     "output_type": "stream",
     "text": [
      "train dataset\n",
      " * accuracy: 0.751\n",
      " * μ-precision: 0.700\n",
      " * μ-recall: 0.950\n",
      "valid dataset\n",
      " * accuracy: 0.625\n",
      " * μ-precision: 0.643\n",
      " * μ-recall: 0.741\n",
      "test dataset\n",
      " * accuracy: 0.748\n",
      " * μ-precision: 0.726\n",
      " * μ-recall: 0.924\n"
     ]
    },
    {
     "data": {
      "image/png": "[encoded data removed]",
      "text/plain": [
       "<Figure size 720x720 with 2 Axes>"
      ]
     },
     "metadata": {
      "needs_background": "light"
     },
     "output_type": "display_data"
    },
    {
     "data": {
      "image/png": "[encoded data removed]",
      "text/plain": [
       "<Figure size 720x720 with 2 Axes>"
      ]
     },
     "metadata": {
      "needs_background": "light"
     },
     "output_type": "display_data"
    },
    {
     "data": {
      "image/png": "[encoded data removed]",
      "text/plain": [
       "<Figure size 720x720 with 2 Axes>"
      ]
     },
     "metadata": {
      "needs_background": "light"
     },
     "output_type": "display_data"
    }
   ],
   "source": [
    "best.show_results()"
   ]
  },
  {
   "cell_type": "code",
   "execution_count": null,
   "metadata": {},
   "outputs": [],
   "source": [
    "best._model.export('table-type-classifier')"
   ]
  }
 ],
 "metadata": {
  "kernelspec": {
   "display_name": "Python 3",
   "language": "python",
   "name": "python3"
  },
  "language_info": {
   "codemirror_mode": {
    "name": "ipython",
    "version": 3
   },
   "file_extension": ".py",
   "mimetype": "text/x-python",
   "name": "python",
   "nbconvert_exporter": "python",
   "pygments_lexer": "ipython3",
   "version": "3.7.4"
  }
 },
 "nbformat": 4,
 "nbformat_minor": 2
}
